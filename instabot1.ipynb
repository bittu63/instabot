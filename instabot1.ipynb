{
 "cells": [
  {
   "cell_type": "markdown",
   "id": "7cc2ef61-a43c-4eae-83bc-c50ed40b46d8",
   "metadata": {},
   "source": [
    "# InstaBot - Part 1"
   ]
  },
  {
   "cell_type": "code",
   "execution_count": 1,
   "id": "265a020c-6092-425f-a9d8-64ddff04799b",
   "metadata": {},
   "outputs": [],
   "source": [
    "from time import sleep\n",
    "from bs4 import BeautifulSoup \n",
    "from selenium import webdriver\n",
    "from selenium.webdriver.common.by import By\n",
    "from selenium.webdriver.support.ui import WebDriverWait\n",
    "from selenium.webdriver.support import expected_conditions as EC\n",
    "from selenium.common.exceptions import TimeoutException"
   ]
  },
  {
   "cell_type": "code",
   "execution_count": 2,
   "id": "467872fd-f1ec-45e0-9e25-85e60d000fe6",
   "metadata": {},
   "outputs": [],
   "source": [
    "driver = webdriver.Chrome(executable_path='chromedriver')"
   ]
  },
  {
   "cell_type": "code",
   "execution_count": 3,
   "id": "ce6ec857-b2ad-4032-9912-02c045b955ca",
   "metadata": {},
   "outputs": [],
   "source": [
    "driver.get('https://www.instagram.com/accounts/login/')"
   ]
  },
  {
   "cell_type": "code",
   "execution_count": 4,
   "id": "4034e2fa-1d4a-4afa-8bb8-fc60ba776ba6",
   "metadata": {},
   "outputs": [],
   "source": [
    "driver.maximize_window()"
   ]
  },
  {
   "cell_type": "code",
   "execution_count": 5,
   "id": "d486ac62-6187-4919-85aa-946a689b9fc1",
   "metadata": {},
   "outputs": [],
   "source": [
    "wait = WebDriverWait(driver,20)"
   ]
  },
  {
   "cell_type": "code",
   "execution_count": 6,
   "id": "98359f03-df13-41f8-be80-52988c514ba0",
   "metadata": {},
   "outputs": [],
   "source": [
    "userName='dbansal_photography'\n",
    "Password = 'Deepu@123'"
   ]
  },
  {
   "cell_type": "markdown",
   "id": "9f10e5f6-ae57-4679-baf2-cdea07d50d3b",
   "metadata": {},
   "source": [
    "# Problem 1 : Login to your Instagram Handle"
   ]
  },
  {
   "cell_type": "code",
   "execution_count": 7,
   "id": "b29f116d-e1ca-4be6-b36a-d64611f8e4a8",
   "metadata": {},
   "outputs": [],
   "source": [
    "def insta_login(userName,Password):\n",
    "    try:\n",
    "        # Locating Username TextBox then enter username\n",
    "        wait.until(EC.presence_of_element_located((By.NAME,'username'))).send_keys(userName)\n",
    "\n",
    "        # Locating Password TextBox then enter password\n",
    "        wait.until(EC.presence_of_element_located((By.NAME,'password'))).send_keys(Password)\n",
    "\n",
    "        # Locating Login Button then submit it\n",
    "        wait.until(EC.presence_of_element_located((By.NAME,'password'))).submit()\n",
    "        \n",
    "        # Locating Save your Login Info ? then click on Not now\n",
    "        wait.until(EC.presence_of_element_located((By.XPATH,'//div/div/div/div/div[1]/div/div/div/div[1]/div[1]/div[2]/section/main/div/div/div/div/button'))).click()\n",
    "        \n",
    "        # Locating Turn on Notification : then click on No\n",
    "        wait.until(EC.presence_of_element_located((By.XPATH,'//div/div/div/div/div[2]/div/div/div[1]/div/div[2]/div/div/div/div/div[2]/div/div/div[3]/button[2]'))).click()\n",
    "    except TimeoutException:\n",
    "        print(\"Something Went Wrong!\")"
   ]
  },
  {
   "cell_type": "code",
   "execution_count": 8,
   "id": "a5fa8339-7c46-4223-aff9-931a317febf6",
   "metadata": {},
   "outputs": [],
   "source": [
    "insta_login(userName,Password)"
   ]
  },
  {
   "cell_type": "markdown",
   "id": "2c0d6295-912b-44e2-ad2f-1cb43e6bb4bd",
   "metadata": {},
   "source": [
    "# Problem 2 : Type for “food” in search bar and print the handles"
   ]
  },
  {
   "cell_type": "code",
   "execution_count": 9,
   "id": "e8099ac5-4310-4d94-9af4-c3a583b4705d",
   "metadata": {},
   "outputs": [],
   "source": [
    "def searchFood():\n",
    "    try:\n",
    "        #locating serch bar and sending text\n",
    "        search_box = wait.until(EC.presence_of_element_located((By.XPATH, '//div/div/div/div/div[1]/div/div/div/div[1]/div[1]/div[2]/section/div[2]/nav/div/header/div/div/div[1]/div/input')))\n",
    "        search_box.send_keys('food')\n",
    "        #waiting till all searched is located\n",
    "        wait.until(EC.presence_of_element_located((By.XPATH,'//div[@class=\"_abm4\"]/a/div/div[2]/div/div/div/div')))\n",
    "        #extracting all serched handle\n",
    "        handle_names = driver.find_elements(By.XPATH, '//div[@class=\"_abm4\"]/a/div/div[2]/div/div/div/div')\n",
    "        names = []\n",
    "        #extracting username\n",
    "        for i in handle_names:\n",
    "            if i.text:\n",
    "                names.append(i.text)             \n",
    "\n",
    "        sleep(5)\n",
    "        #clearing search bar\n",
    "        driver.find_element(By.CSS_SELECTOR, 'div._aawn._9-lv').click()\n",
    " \n",
    "        return names\n",
    "    \n",
    "    except TimeoutException :\n",
    "        print('No Search Found!')"
   ]
  },
  {
   "cell_type": "code",
   "execution_count": 10,
   "id": "f23c61fb-41a3-4a34-80a5-336670e7d629",
   "metadata": {},
   "outputs": [],
   "source": [
    "food_names = searchFood()"
   ]
  },
  {
   "cell_type": "code",
   "execution_count": 11,
   "id": "9b54386f-afb9-4bcb-96bf-a23c99ea1599",
   "metadata": {},
   "outputs": [
    {
     "name": "stdout",
     "output_type": "stream",
     "text": [
      "kantta_chamach\n",
      "adis_food_voyage\n",
      "yamunanagar_foodvlogs\n",
      "delhieater\n",
      "punefoodiesoul\n",
      "tasty.foodrecipes\n",
      "food\n",
      "_food_wave_\n",
      "gurgaonfoodcircle\n",
      "this_is_delhi\n",
      "imtoocheesyforyou\n",
      "foodie_incarnate\n",
      "germany.explores\n",
      "paidaishi_foodie\n",
      "delhifoodprn\n",
      "pune_foodies_\n",
      "homefoodstory21\n",
      "food_quotient\n",
      "foodchoiceofmumbai\n",
      "pune_artkitchen\n",
      "gurgaontimes.food\n",
      "bisckoo\n",
      "delhifoodwalks\n",
      "foodanalytics_\n",
      "delhifoodcrush\n",
      "omo.cafe\n",
      "dfim\n",
      "foodbyjahnvi\n",
      "foodfactory_27\n",
      "foodhunter_sabu\n",
      "yumyumtree.foodinc\n",
      "foodlover_lyf\n",
      "mrsinghfoodhunter\n",
      "foodietraveller_dharak\n",
      "thisisdelhi\n",
      "puneriguide\n",
      "thefoodblogdelhi\n",
      "tochan_king__\n",
      "foodyasmoody\n",
      "oye.foodieee\n",
      "the_foodie_bae\n",
      "foodiedaakshi\n",
      "foodincarnation\n",
      "foodyvishal\n",
      "delhifoodnest\n",
      "gurugramfoodies\n",
      "foodstoriesbytanya\n",
      "vlogwithpoonam\n",
      "justfoodfood_\n",
      "foodphotography.inc\n"
     ]
    }
   ],
   "source": [
    "for i in food_names :\n",
    "    print(i)"
   ]
  },
  {
   "cell_type": "markdown",
   "id": "6bf11bb6-177b-4605-8576-1a43a49d9b5f",
   "metadata": {},
   "source": [
    "# Problem 3 : Searching and Opening a profile"
   ]
  },
  {
   "cell_type": "code",
   "execution_count": 12,
   "id": "48d860d9-c73d-44cc-94b2-38db16b7a607",
   "metadata": {},
   "outputs": [],
   "source": [
    "def open_profile():\n",
    "    try:\n",
    "        #locatong search box bar and sending text \n",
    "        search_box = wait.until(EC.presence_of_element_located((By.XPATH, '//div/div/div/div/div[1]/div/div/div/div[1]/div[1]/div[2]/section/div[2]/nav/div/header/div/div/div[1]/div/input')))\n",
    "        search_box.send_keys('So Delhi')\n",
    "        #locating serched result\n",
    "        res = wait.until(EC.presence_of_element_located((By.XPATH,'//div[@class=\"_abm4\"]/a')))\n",
    "\n",
    "        res.click()           \n",
    "    \n",
    "    except TimeoutException :\n",
    "        print('No Search Found!')"
   ]
  },
  {
   "cell_type": "code",
   "execution_count": 13,
   "id": "c3d692aa-22b6-4f38-a6d1-f38f88969f33",
   "metadata": {},
   "outputs": [],
   "source": [
    "open_profile()"
   ]
  },
  {
   "cell_type": "markdown",
   "id": "b15a6088-b28c-410c-a278-feaf5b988a3f",
   "metadata": {},
   "source": [
    "# Problem 4 : Follow/Unfollow given handle"
   ]
  },
  {
   "cell_type": "code",
   "execution_count": 14,
   "id": "f7a7eb03-6808-4a56-944d-cf23e87d0cdf",
   "metadata": {},
   "outputs": [],
   "source": [
    "def follow_profile():\n",
    "    try :\n",
    "        #locating follow button\n",
    "        btn = wait.until(EC.presence_of_element_located((By.CSS_SELECTOR,'button._acan._acap._acas')))\n",
    "        #checking for text\n",
    "        if btn.text == 'Follow' : \n",
    "            btn.click()\n",
    "            sleep(3)\n",
    "        \n",
    "        else : \n",
    "            print('Already Following')\n",
    "\n",
    "    except TimeoutException :\n",
    "        print(\"Something Went Wrong!\")"
   ]
  },
  {
   "cell_type": "code",
   "execution_count": 15,
   "id": "d5ed632c-1436-42aa-b05d-cef618cce6ec",
   "metadata": {},
   "outputs": [],
   "source": [
    "follow_profile()"
   ]
  },
  {
   "cell_type": "code",
   "execution_count": 16,
   "id": "3557bb48-e590-4615-af51-b9545ee0513f",
   "metadata": {},
   "outputs": [],
   "source": [
    "def unfollow_profile():\n",
    "    try :\n",
    "        #locating follow button\n",
    "        btn = wait.until(EC.presence_of_all_elements_located((By.CSS_SELECTOR,'button._acan._acap._acat')))\n",
    "        #checking for text\n",
    "        sleep(1)\n",
    "        unfollow_btn = btn[1]\n",
    "        if unfollow_btn.text !='Follow' : \n",
    "            unfollow_btn.click()\n",
    "            sleep(2)\n",
    "            #locating popup window (when you click on follow button)\n",
    "            unfollow_popup = wait.until(EC.presence_of_element_located((By.CSS_SELECTOR,'button._a9--._a9-_')))\n",
    "            unfollow_popup.click()\n",
    "            sleep(3)\n",
    "            \n",
    "        else : \n",
    "            print('Already Unfollowed')\n",
    "\n",
    "    except TimeoutException :\n",
    "        print(\"Something Went Wrong!\")"
   ]
  },
  {
   "cell_type": "code",
   "execution_count": 17,
   "id": "692bd319-07b2-4331-b4f3-544b53558408",
   "metadata": {},
   "outputs": [],
   "source": [
    "unfollow_profile()"
   ]
  },
  {
   "cell_type": "markdown",
   "id": "efea1a46-5583-4719-b512-287da14abab0",
   "metadata": {},
   "source": [
    "# Problem 5 : Like/Unlike posts"
   ]
  },
  {
   "cell_type": "code",
   "execution_count": 48,
   "id": "c46fb437-be3f-460d-837d-2510e40d100f",
   "metadata": {},
   "outputs": [],
   "source": [
    "def like_Post():\n",
    "    try :\n",
    "        #scrolling for locating post\n",
    "        driver.execute_script('window.scrollTo(0, 6000);')\n",
    "        sleep(3)\n",
    "        driver.execute_script('window.scrollTo(0, -6000);')\n",
    "        sleep(3)\n",
    "        #locating post\n",
    "        posts = driver.find_elements(By.CSS_SELECTOR, 'div._aabd._aa8k._aanf > a')\n",
    "        \n",
    "        for i in range(30):\n",
    "            posts[i].click()\n",
    "            sleep(2)\n",
    "            #locating like/unke button\n",
    "            like = wait.until(EC.presence_of_element_located((By.CLASS_NAME,'span._aamw > button._abl-')))\n",
    "            try:\n",
    "                if driver.find_element(By.CSS_SELECTOR, 'span._aamw > button > div._abm0._abl_ > span > svg').get_attribute('aria-label') == 'Like':\n",
    "                    like.click()\n",
    "                    sleep(2)\n",
    "            except:\n",
    "                print('You have already LIKED Post Number :', i+1)\n",
    "                sleep(2)\n",
    "           \n",
    "            #locating cross button for closing post\n",
    "            driver.find_element(By.CSS_SELECTOR, 'div.x10l6tqk.x160vmok.x1eu8d0j.x1vjfegm > div').click()\n",
    "            sleep(2)\n",
    "            \n",
    "    except TimeoutException :\n",
    "        print(\"Something Went Wrong!\")"
   ]
  },
  {
   "cell_type": "code",
   "execution_count": 50,
   "id": "3d7ca270-b0f3-4531-a005-bb5a8d75130e",
   "metadata": {},
   "outputs": [],
   "source": [
    "like_Post()"
   ]
  },
  {
   "cell_type": "code",
   "execution_count": 51,
   "id": "7a7a096e-3a65-4750-97ca-17e72aed4dcd",
   "metadata": {},
   "outputs": [],
   "source": [
    "def unlike_Post():\n",
    "    try :\n",
    "        #scrolling for locating post\n",
    "        driver.execute_script('window.scrollTo(0, 6000);')\n",
    "        time.sleep(3)\n",
    "        driver.execute_script('window.scrollTo(0, -6000);')\n",
    "        time.sleep(3)\n",
    "        #locating post\n",
    "        posts = driver.find_elements(By.CSS_SELECTOR, 'div._aabd._aa8k._aanf > a')\n",
    "     \n",
    "        for i in range(30):\n",
    "            posts[i].click()\n",
    "            time.sleep(2)\n",
    "            #locating like/unke button\n",
    "            like = wait.until(EC.presence_of_element_located((By.CLASS_NAME,'span._aamw > button._abl-')))\n",
    "            try:\n",
    "                if driver.find_element(By.CSS_SELECTOR, 'span._aamw > button > div > span > svg').get_attribute('aria-label') == 'Unlike':\n",
    "                    like.click()\n",
    "                    sleep(2)\n",
    "            except:\n",
    "                print('You have already Unliked Post Number :', i+1)\n",
    "                sleep(2)\n",
    "            #locating cross button for closing post\n",
    "            driver.find_element(By.CSS_SELECTOR, 'div.x10l6tqk.x160vmok.x1eu8d0j.x1vjfegm > div').click()\n",
    "            time.sleep(2)\n",
    "            \n",
    "    except TimeoutException :\n",
    "        print(\"Something Went Wrong!\")"
   ]
  },
  {
   "cell_type": "code",
   "execution_count": 52,
   "id": "9daa8454-ee2f-4baf-928a-424472cd95f9",
   "metadata": {},
   "outputs": [],
   "source": [
    "unlike_Post()"
   ]
  },
  {
   "cell_type": "code",
   "execution_count": null,
   "id": "294d3449-d247-4dad-97a0-0b55e4dc43f5",
   "metadata": {},
   "outputs": [],
   "source": []
  }
 ],
 "metadata": {
  "kernelspec": {
   "display_name": "Python 3 (ipykernel)",
   "language": "python",
   "name": "python3"
  },
  "language_info": {
   "codemirror_mode": {
    "name": "ipython",
    "version": 3
   },
   "file_extension": ".py",
   "mimetype": "text/x-python",
   "name": "python",
   "nbconvert_exporter": "python",
   "pygments_lexer": "ipython3",
   "version": "3.10.8"
  }
 },
 "nbformat": 4,
 "nbformat_minor": 5
}
